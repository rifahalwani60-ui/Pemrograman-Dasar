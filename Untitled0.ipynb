{
  "nbformat": 4,
  "nbformat_minor": 0,
  "metadata": {
    "colab": {
      "provenance": [],
      "authorship_tag": "ABX9TyNHpI8Oib7CbnZnK9NAtqCb",
      "include_colab_link": true
    },
    "kernelspec": {
      "name": "python3",
      "display_name": "Python 3"
    },
    "language_info": {
      "name": "python"
    }
  },
  "cells": [
    {
      "cell_type": "markdown",
      "metadata": {
        "id": "view-in-github",
        "colab_type": "text"
      },
      "source": [
        "<a href=\"https://colab.research.google.com/github/rifahalwani60-ui/Pemrograman-Dasar/blob/main/Untitled0.ipynb\" target=\"_parent\"><img src=\"https://colab.research.google.com/assets/colab-badge.svg\" alt=\"Open In Colab\"/></a>"
      ]
    },
    {
      "cell_type": "code",
      "execution_count": null,
      "metadata": {
        "colab": {
          "base_uri": "https://localhost:8080/"
        },
        "id": "xfGyEWLnA0qn",
        "outputId": "d8c436c7-f531-404a-ace3-d02d1dae8fa0"
      },
      "outputs": [
        {
          "output_type": "stream",
          "name": "stdout",
          "text": [
            "43\n"
          ]
        }
      ],
      "source": [
        "# deklarasi variable list\n",
        "numbers = [23, 43, 15, 34]\n",
        "# cara mengakses elemen dalam variabel list\n",
        "numbers[0] # 23\n",
        "numbers[1] # 43\n",
        "numbers[2] # 15\n",
        "numbers[3] # 34\n",
        "# cara merubah nilai elemen dalam variabel list\n",
        "numbers[2] # 51\n",
        "numbers[2] # 51\n",
        "\n",
        "print (numbers[1]) #lakukan setiap indexnya dan lihat hasilnya"
      ]
    },
    {
      "cell_type": "code",
      "source": [
        "# deklarasi variable list numbers\n",
        "numbers = [1, 2, 3]\n",
        "\n",
        "# menambahkan elemen di indeks ke-4\n",
        "numbers.insert(4,5)  #(1, 2, 3, 5)\n",
        "\n",
        "# menambahkan eleme di indeks ke-4\n",
        "numbers[3] = 4 #(1, 2, 3, 4)\n",
        "\n",
        "# menghapus elemen di indeks ke-2\n",
        "numbers.pop(2) # (1, 2, 4)\n",
        "\n",
        "#print lalu lihat hasilnya"
      ],
      "metadata": {
        "colab": {
          "base_uri": "https://localhost:8080/"
        },
        "id": "seQQBJ5yDdZB",
        "outputId": "eb16bbd4-451f-42c4-ed0e-b69ebe2f900b"
      },
      "execution_count": null,
      "outputs": [
        {
          "output_type": "execute_result",
          "data": {
            "text/plain": [
              "3"
            ]
          },
          "metadata": {},
          "execution_count": 4
        }
      ]
    },
    {
      "cell_type": "code",
      "source": [
        "# deklarasi variabel list numbers\n",
        "numbers = [1, 2, 3]\n",
        "\n",
        "# menambahkan elemen di indeks ke-4\n",
        "numbers.insert(4, 5) # [1, 2, 3, 5]\n",
        "\n",
        "# mengubah elemen di indeks ke-4\n",
        "numbers[3] = 4 # [1, 2, 3, 4]\n",
        "\n",
        "# menghapus elemen di indeks ke-2\n",
        "numbers.pop(2) # [1, 2, 4]\n",
        "\n",
        "# print setiap hasil perubahan dan amati hasilnya\n",
        "\n"
      ],
      "metadata": {
        "colab": {
          "base_uri": "https://localhost:8080/"
        },
        "id": "g1W-ihVIFcF8",
        "outputId": "3ff6da81-3e7c-4df6-8c06-c1ca04c97a25"
      },
      "execution_count": null,
      "outputs": [
        {
          "output_type": "execute_result",
          "data": {
            "text/plain": [
              "3"
            ]
          },
          "metadata": {},
          "execution_count": 9
        }
      ]
    },
    {
      "cell_type": "code",
      "source": [
        "# deklarasi variabel list\n",
        "mylist = [1, \"rumah\",4.5, True, [\"kamar mandi\", \"kamar tidur\"]]\n",
        "\n",
        "# cara mengakses variabel dalam list\n",
        "mylist[0] # 1\n",
        "mylist[1] # \"rumah\"\n",
        "mylist[2] # True\n",
        "mylist[3] # [\"kamar mandi\", \"kamar tidur\"]\n",
        "\n",
        "# cara mengakses elemen dalam sublist\n",
        "mylist[4][0] # \"kamar mandi\n",
        "mylist[4][1] # \"kamar tidur\"\n",
        "\n",
        "# lakukan print dan lihat hasilnya"
      ],
      "metadata": {
        "colab": {
          "base_uri": "https://localhost:8080/",
          "height": 36
        },
        "id": "mgj5rByPJZ_h",
        "outputId": "09852f08-1916-4a54-8456-f88e723a08e5"
      },
      "execution_count": null,
      "outputs": [
        {
          "output_type": "execute_result",
          "data": {
            "text/plain": [
              "'kamar tidur'"
            ],
            "application/vnd.google.colaboratory.intrinsic+json": {
              "type": "string"
            }
          },
          "metadata": {},
          "execution_count": 5
        }
      ]
    },
    {
      "cell_type": "code",
      "source": [
        "x = (1, \"polibatam\", 1+3j)\n",
        "print(type(x))\n",
        "\n",
        "\"\"\"\n",
        "<class 'tuple'>\n",
        "\"\"\""
      ],
      "metadata": {
        "colab": {
          "base_uri": "https://localhost:8080/",
          "height": 53
        },
        "id": "4hU_JskUFgqm",
        "outputId": "71886834-8332-4e40-813c-214927636ccc"
      },
      "execution_count": null,
      "outputs": [
        {
          "output_type": "stream",
          "name": "stdout",
          "text": [
            "<class 'tuple'>\n"
          ]
        },
        {
          "output_type": "execute_result",
          "data": {
            "text/plain": [
              "\"\\n<class 'tuple'>\\n\""
            ],
            "application/vnd.google.colaboratory.intrinsic+json": {
              "type": "string"
            }
          },
          "metadata": {},
          "execution_count": 6
        }
      ]
    },
    {
      "cell_type": "code",
      "source": [
        "x = (5, \"program\", 1+3j)\n",
        "print(x[1])\n",
        "print(x[0:3])\n",
        "\n",
        "\"\"\"\n",
        "output\n",
        "program\n",
        "(5, \"program\", (1+3j))\n",
        "\"\"\""
      ],
      "metadata": {
        "colab": {
          "base_uri": "https://localhost:8080/",
          "height": 70
        },
        "id": "WvQtj7myYIIm",
        "outputId": "fb78dc73-b3bb-4cc2-fc40-3daf928d2c71"
      },
      "execution_count": null,
      "outputs": [
        {
          "output_type": "stream",
          "name": "stdout",
          "text": [
            "program\n",
            "(5, 'program', (1+3j))\n"
          ]
        },
        {
          "output_type": "execute_result",
          "data": {
            "text/plain": [
              "'\\noutput \\nprogram\\n(5, \"program\", (1+3j))\\n'"
            ],
            "application/vnd.google.colaboratory.intrinsic+json": {
              "type": "string"
            }
          },
          "metadata": {},
          "execution_count": 9
        }
      ]
    },
    {
      "cell_type": "code",
      "source": [
        "x = (5, 'program' (1+3j))\n",
        "x[1] = 'polibatam'\n",
        "\n",
        "\"\"\"\n",
        "output\n",
        "'tuple'doen not support item assigment\n",
        "\"\"\"\n"
      ],
      "metadata": {
        "colab": {
          "base_uri": "https://localhost:8080/",
          "height": 280
        },
        "id": "zPRGehzUaQo-",
        "outputId": "7ee14f00-c104-4c95-d858-18329c3b9469"
      },
      "execution_count": null,
      "outputs": [
        {
          "output_type": "stream",
          "name": "stderr",
          "text": [
            "<>:1: SyntaxWarning: 'str' object is not callable; perhaps you missed a comma?\n",
            "<>:1: SyntaxWarning: 'str' object is not callable; perhaps you missed a comma?\n",
            "/tmp/ipython-input-1579900686.py:1: SyntaxWarning: 'str' object is not callable; perhaps you missed a comma?\n",
            "  x = (5, 'program' (1+3j))\n"
          ]
        },
        {
          "output_type": "error",
          "ename": "TypeError",
          "evalue": "'str' object is not callable",
          "traceback": [
            "\u001b[0;31m---------------------------------------------------------------------------\u001b[0m",
            "\u001b[0;31mTypeError\u001b[0m                                 Traceback (most recent call last)",
            "\u001b[0;32m/tmp/ipython-input-1579900686.py\u001b[0m in \u001b[0;36m<cell line: 0>\u001b[0;34m()\u001b[0m\n\u001b[0;32m----> 1\u001b[0;31m \u001b[0mx\u001b[0m \u001b[0;34m=\u001b[0m \u001b[0;34m(\u001b[0m\u001b[0;36m5\u001b[0m\u001b[0;34m,\u001b[0m \u001b[0;34m'program'\u001b[0m \u001b[0;34m(\u001b[0m\u001b[0;36m1\u001b[0m\u001b[0;34m+\u001b[0m\u001b[0;36m3j\u001b[0m\u001b[0;34m)\u001b[0m\u001b[0;34m)\u001b[0m\u001b[0;34m\u001b[0m\u001b[0;34m\u001b[0m\u001b[0m\n\u001b[0m\u001b[1;32m      2\u001b[0m \u001b[0mx\u001b[0m\u001b[0;34m[\u001b[0m\u001b[0;36m1\u001b[0m\u001b[0;34m]\u001b[0m \u001b[0;34m=\u001b[0m \u001b[0;34m'polibatam'\u001b[0m\u001b[0;34m\u001b[0m\u001b[0;34m\u001b[0m\u001b[0m\n\u001b[1;32m      3\u001b[0m \u001b[0;34m\u001b[0m\u001b[0m\n\u001b[1;32m      4\u001b[0m \"\"\"\n\u001b[1;32m      5\u001b[0m \u001b[0moutput\u001b[0m\u001b[0;34m\u001b[0m\u001b[0;34m\u001b[0m\u001b[0m\n",
            "\u001b[0;31mTypeError\u001b[0m: 'str' object is not callable"
          ]
        }
      ]
    },
    {
      "cell_type": "code",
      "source": [
        "# deklarasi variable tuple\n",
        "numbers = (23, 43, 15, 34)\n",
        "\n",
        "# cara mengakses elemen dalam variabel tuple\n",
        "numbers[0] # 23\n",
        "numbers[1] # 43\n",
        "numbers[2] # 15\n",
        "numbers[3] # 34\n",
        "\n",
        "# lakukan print laluamati hasilnya\n",
        "\n"
      ],
      "metadata": {
        "colab": {
          "base_uri": "https://localhost:8080/"
        },
        "id": "Po2FXeo5brID",
        "outputId": "8161d853-0f72-4e1c-bfff-91f3802ff287"
      },
      "execution_count": null,
      "outputs": [
        {
          "output_type": "execute_result",
          "data": {
            "text/plain": [
              "34"
            ]
          },
          "metadata": {},
          "execution_count": 18
        }
      ]
    },
    {
      "cell_type": "code",
      "source": [
        "# deklarasi variabel set a dan b\n",
        "a = {1, 2, 3}\n",
        "b = {2, 3, 4}\n",
        "\n",
        "# operasi gabungan\n",
        "a.union(b)  # {1, 2, 3, 4}\n",
        "\n",
        "# operasi irisan\n",
        "a.intersection(b) # {2, 3}\n",
        "\n",
        "# operasi perbedaan\n",
        "a. symmetric_difference(b)  # {1, 4}\n",
        "\n",
        "# lakukan print dan lihan hasilnya\n"
      ],
      "metadata": {
        "colab": {
          "base_uri": "https://localhost:8080/"
        },
        "id": "biU0iARkdaJO",
        "outputId": "c4901215-7ce4-4322-eb94-66aa73ade8ec"
      },
      "execution_count": null,
      "outputs": [
        {
          "output_type": "execute_result",
          "data": {
            "text/plain": [
              "{1, 4}"
            ]
          },
          "metadata": {},
          "execution_count": 19
        }
      ]
    },
    {
      "cell_type": "code",
      "source": [
        "x = x = {'name': 'rifa halwani', 'age': 20, 'isMarried' : False}\n",
        "\n",
        "print(x ['name'])\n",
        "\n",
        "\"\"\"\n",
        "output\n",
        "rifa halwani\n",
        "\"\"\""
      ],
      "metadata": {
        "colab": {
          "base_uri": "https://localhost:8080/",
          "height": 53
        },
        "id": "G318F1hOfJqB",
        "outputId": "6a4a85d3-2caf-4175-8389-318aabf3fb57"
      },
      "execution_count": null,
      "outputs": [
        {
          "output_type": "stream",
          "name": "stdout",
          "text": [
            "rifa halwani\n"
          ]
        },
        {
          "output_type": "execute_result",
          "data": {
            "text/plain": [
              "'\\noutput\\nrifa halwani\\n'"
            ],
            "application/vnd.google.colaboratory.intrinsic+json": {
              "type": "string"
            }
          },
          "metadata": {},
          "execution_count": 23
        }
      ]
    },
    {
      "cell_type": "code",
      "source": [
        "x = {'name': 'rifa halwani', 'age': 20, 'isMarried': False}\n",
        "x ['job']= \"web developer\"\n",
        "\n",
        "print(x)\n",
        "\n",
        "\"\"\"\n",
        "output:\n",
        "{'name': 'rifa halwani, 'age': 20, 'isMarried': False, 'job': 'web developer'}\n",
        "\n",
        "\"\"\"\n"
      ],
      "metadata": {
        "colab": {
          "base_uri": "https://localhost:8080/",
          "height": 53
        },
        "id": "8cYcXcxahBmI",
        "outputId": "dcd4ccb2-bc80-40b6-b688-7842495bf23f"
      },
      "execution_count": 1,
      "outputs": [
        {
          "output_type": "stream",
          "name": "stdout",
          "text": [
            "{'name': 'rifa halwani', 'age': 20, 'isMarried': False, 'job': 'web developer'}\n"
          ]
        },
        {
          "output_type": "execute_result",
          "data": {
            "text/plain": [
              "\"\\noutput:\\n{'name': 'rifa halwani, 'age': 20, 'isMarried': False, 'job': 'web developer'}\\n\\n\""
            ],
            "application/vnd.google.colaboratory.intrinsic+json": {
              "type": "string"
            }
          },
          "metadata": {},
          "execution_count": 1
        }
      ]
    },
    {
      "cell_type": "code",
      "source": [
        "x = {'name': 'rifa halwani', 'age': 20, 'isMarried': False}\n",
        "del x['isMarried']\n",
        "\n",
        "print(x)\n",
        "\n",
        "\n"
      ],
      "metadata": {
        "colab": {
          "base_uri": "https://localhost:8080/"
        },
        "id": "q27TDAm5XcP8",
        "outputId": "91179b8a-7c08-4e2c-c34f-3776e4ea1f7d"
      },
      "execution_count": 7,
      "outputs": [
        {
          "output_type": "stream",
          "name": "stdout",
          "text": [
            "{'name': 'rifa halwani', 'age': 20}\n"
          ]
        }
      ]
    },
    {
      "cell_type": "code",
      "source": [
        "x = {'name':'rifa halwani', 'age': 20, 'isMarried': False}\n",
        "x['name'] = \"halwani\"\n",
        "\n",
        "print(x)\n",
        "\n",
        "\n"
      ],
      "metadata": {
        "colab": {
          "base_uri": "https://localhost:8080/"
        },
        "id": "3ThusAT7Zl1j",
        "outputId": "44bcadf2-883f-4aa8-d3a0-9ba6526f5805"
      },
      "execution_count": 13,
      "outputs": [
        {
          "output_type": "stream",
          "name": "stdout",
          "text": [
            "{'name': 'halwani', 'age': 20, 'isMarried': False}\n"
          ]
        }
      ]
    },
    {
      "cell_type": "code",
      "source": [
        "# Deklarasi variabel dictionary\n",
        "propertyDetail = {\"numFloors\": 1, \"propertyType\": \"rumah\", \"hasTerrace\": True, \"hasGarage\": False}\n",
        "\n",
        "# cara mengakses elemen dalam variabel\n",
        "propertyDetail[\"numFloors\"]        # 1\n",
        "propertyDetail[\"propertyType\"]     # rumah\n",
        "propertyDetail[\"hasTerrace\"]       # True\n",
        "propertyDetail[\"hasGarage\"]        # False\n",
        "\n",
        "# cara mengubah nilai elemen dalam variabel dictionary\n",
        "propertyDetail [\"hasTerrace\"]  = False\n",
        "\n",
        "propertyDetail [\"hasTerrace\"]  # False\n",
        "\n",
        "# print (proprtyDetail[\"propertytype\"])"
      ],
      "metadata": {
        "colab": {
          "base_uri": "https://localhost:8080/"
        },
        "id": "sOceE9LobnVv",
        "outputId": "2da27603-81f6-4b0b-ef92-746c0de8a979"
      },
      "execution_count": 23,
      "outputs": [
        {
          "output_type": "execute_result",
          "data": {
            "text/plain": [
              "False"
            ]
          },
          "metadata": {},
          "execution_count": 23
        }
      ]
    },
    {
      "cell_type": "code",
      "source": [
        "# Membuat variabel sesuai instruksi soal\n",
        "x = {'firtsName': 'Rifa', 'lastname': 'Halwani', 'age': 25, 'isMarried': False}\n",
        "\n",
        "print(x['firtsName'])  # Rifa\n",
        "print(x['lastname'])   # Halwani\n",
        "print(x['age'])        # 25\n",
        "print(x['isMarried'])  # False\n",
        "\n",
        "# menampilkan Dta dictionary dengan print()\n",
        "print"
      ],
      "metadata": {
        "colab": {
          "base_uri": "https://localhost:8080/"
        },
        "id": "HoASFU-PgiuS",
        "outputId": "67713481-3fae-4f9e-d279-715d0523f8ae"
      },
      "execution_count": 25,
      "outputs": [
        {
          "output_type": "stream",
          "name": "stdout",
          "text": [
            "Rifa\n",
            "Halwani\n",
            "25\n",
            "False\n"
          ]
        }
      ]
    },
    {
      "cell_type": "code",
      "source": [
        "# Membuat variabel  Dictionary nama dan  \"Data Diri\"\n",
        "\n",
        "\n",
        "# Membuat dictionary sesuai instruksi\n",
        "data_diri = {\n",
        "    \"firstName\": \"Rifa\",      # string -> nama depan\n",
        "    \"lastName\": \"Halwani\",    # string -> nama belakang\n",
        "    \"age\": 25,                # integer -> umur\n",
        "    \"isMarried\": False        # boolean -> status pernikahan\n",
        "}\n",
        "\n",
        "# Menampilkan dictionary dengan print()\n",
        "print(\"Dictionary Data Diri:\", data_diri)\n",
        "\n",
        "\n"
      ],
      "metadata": {
        "colab": {
          "base_uri": "https://localhost:8080/"
        },
        "id": "G7s7Ti6smcVj",
        "outputId": "693019e4-4780-4aea-e7be-3d31f120e069"
      },
      "execution_count": 28,
      "outputs": [
        {
          "output_type": "stream",
          "name": "stdout",
          "text": [
            "Dictionary Data Diri: {'firstName': 'Rifa', 'lastName': 'Halwani', 'age': 25, 'isMarried': False}\n"
          ]
        }
      ]
    },
    {
      "cell_type": "code",
      "source": [
        "# Membuat variabel sesuai Tugas instruksi soal\n",
        "firstName = \"Rifa\"\n",
        "lastName  = \"Halwani\"\n",
        "age       = 25\n",
        "isMarried = False\n",
        "\n",
        "# menampilkan Hasil output instruksi print\n",
        "print(\"firstName :\",firstName)\n",
        "print(\"lastName :\", lastName)\n",
        "print(\"age:\", age)\n",
        "print(\"isMarried:\", isMarried)"
      ],
      "metadata": {
        "colab": {
          "base_uri": "https://localhost:8080/"
        },
        "id": "JsLTtLP1ryBs",
        "outputId": "a75942c2-70b3-4c42-cfc6-fcec5127edff"
      },
      "execution_count": 31,
      "outputs": [
        {
          "output_type": "stream",
          "name": "stdout",
          "text": [
            "firstName : Rifa\n",
            "lastName : Halwani\n",
            "age: 25\n",
            "isMarried: False\n"
          ]
        }
      ]
    },
    {
      "cell_type": "code",
      "source": [
        "# Tugas 3 Membuat variabel startTime (waktu datang) sesuai instruksi\n",
        "startTime = {\n",
        "    \"HH\": 9,    # jam\n",
        "    \"mm\": 23,   # menit\n",
        "    \"ss\": 57    # detik\n",
        "}\n",
        "\n",
        "# Membuat variabel endTime (waktu pulang) sesuai instruksi\n",
        "endTime = {\n",
        "    \"HH\": 15,   # jam\n",
        "    \"mm\": 25,   # menit\n",
        "    \"ss\": 43    # detik\n",
        "}\n",
        "\n",
        "# Menampilkan hasil dengan print()\n",
        "print(\"Waktu Datang (startTime):\", startTime)\n",
        "print(\"Waktu Pulang (endTime):\", endTime)\n",
        "\n"
      ],
      "metadata": {
        "colab": {
          "base_uri": "https://localhost:8080/"
        },
        "id": "pC-z53ueH81J",
        "outputId": "0e3de31f-d3d3-4618-c381-5c737f9765b9"
      },
      "execution_count": 33,
      "outputs": [
        {
          "output_type": "stream",
          "name": "stdout",
          "text": [
            "Waktu Datang (startTime): {'HH': 9, 'mm': 23, 'ss': 57}\n",
            "Waktu Pulang (endTime): {'HH': 15, 'mm': 25, 'ss': 43}\n"
          ]
        }
      ]
    },
    {
      "cell_type": "code",
      "source": [
        "# Tugas 4 Membuat variabel inspeksi bertipe list\n",
        "Inspeksi = [\"pemahaman terhadap rencana dan desain\",\"ketersediaan bahan dan peralatan\",\"pengawasan pekerjaan\", \"kualitas konstruksi\",\"keselamatan kerja\",\n",
        "             \"koordinasi dengan pemilik proyek\"]\n",
        "\n",
        "# menampilkan  seluruh list inspeksi\n",
        "print(\"Inspeksi:\",Inspeksi)\n",
        "print(Inspeksi)\n",
        "\n",
        "# tampilkan setiap item list agar rapi\n",
        "print(\"\\nDetail Inspeksi:\")\n",
        "for i, item in enumerate(Inspeksi, start=1):\n",
        "    print(f\"{i}. {item}\")\n",
        "\n"
      ],
      "metadata": {
        "colab": {
          "base_uri": "https://localhost:8080/"
        },
        "id": "HkZzlCdQJiMQ",
        "outputId": "118f9637-970b-46d2-8d63-9eddcf6e5e0e"
      },
      "execution_count": 36,
      "outputs": [
        {
          "output_type": "stream",
          "name": "stdout",
          "text": [
            "Inspeksi: ['pemahaman terhadap rencana dan desain', 'ketersediaan bahan dan peralatan', 'pengawasan pekerjaan', 'kualitas konstruksi', 'keselamatan kerja', 'koordinasi dengan pemilik proyek']\n",
            "['pemahaman terhadap rencana dan desain', 'ketersediaan bahan dan peralatan', 'pengawasan pekerjaan', 'kualitas konstruksi', 'keselamatan kerja', 'koordinasi dengan pemilik proyek']\n",
            "\n",
            "Detail Inspeksi:\n",
            "1. pemahaman terhadap rencana dan desain\n",
            "2. ketersediaan bahan dan peralatan\n",
            "3. pengawasan pekerjaan\n",
            "4. kualitas konstruksi\n",
            "5. keselamatan kerja\n",
            "6. koordinasi dengan pemilik proyek\n"
          ]
        }
      ]
    },
    {
      "cell_type": "code",
      "source": [
        "# Tugas 5 membuat Daftar produk dalam bentuk set\n",
        "katalog_A = {\"Laptop\", \"Mouse\", \"Keyboard\", \"Monitor\"}\n",
        "katalog_B = {\"Tablet\", \"Mouse\", \"Headset\", \"Monitor\"}\n",
        "\n",
        "#  Membuat Daftar produk  diskon\n",
        "produk_diskon = (\"Laptop\", \"Headset\", \"Charger\")\n",
        "\n",
        "# Gabungkan katalog_A dan katalog_B menjadi satu set unik\n",
        "katalog_lengkap = katalog_A.union(katalog_B)\n",
        "print(\"Katalog Lengkap:\", katalog_lengkap)\n",
        "\n",
        "# Cari produk mana saja dari katalog_lengkap yang juga ada di produk_diskon\n",
        "produk_promo_aktif = katalog_lengkap.intersection(produk_diskon)\n",
        "print(\"Produk Promo Aktif:\", produk_promo_aktif)\n"
      ],
      "metadata": {
        "colab": {
          "base_uri": "https://localhost:8080/"
        },
        "id": "YD_ZipmkP0DV",
        "outputId": "c8c5ca16-893a-4d96-ae2a-e2c58b7aa2bd"
      },
      "execution_count": 37,
      "outputs": [
        {
          "output_type": "stream",
          "name": "stdout",
          "text": [
            "Katalog Lengkap: {'Laptop', 'Tablet', 'Monitor', 'Keyboard', 'Headset', 'Mouse'}\n",
            "Produk Promo Aktif: {'Laptop', 'Headset'}\n"
          ]
        }
      ]
    }
  ]
}