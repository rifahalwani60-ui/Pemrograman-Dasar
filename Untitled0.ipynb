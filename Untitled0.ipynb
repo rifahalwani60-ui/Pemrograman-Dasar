{
  "nbformat": 4,
  "nbformat_minor": 0,
  "metadata": {
    "colab": {
      "provenance": [],
      "authorship_tag": "ABX9TyPf58kEpZ/fGYnHae1ENR3H",
      "include_colab_link": true
    },
    "kernelspec": {
      "name": "python3",
      "display_name": "Python 3"
    },
    "language_info": {
      "name": "python"
    }
  },
  "cells": [
    {
      "cell_type": "markdown",
      "metadata": {
        "id": "view-in-github",
        "colab_type": "text"
      },
      "source": [
        "<a href=\"https://colab.research.google.com/github/rifahalwani60-ui/Pemrograman-Dasar/blob/main/Untitled0.ipynb\" target=\"_parent\"><img src=\"https://colab.research.google.com/assets/colab-badge.svg\" alt=\"Open In Colab\"/></a>"
      ]
    },
    {
      "cell_type": "code",
      "execution_count": null,
      "metadata": {
        "colab": {
          "base_uri": "https://localhost:8080/"
        },
        "id": "y4YSlLZgBF5-",
        "outputId": "ac481e83-00c9-456a-91f6-91061300dae1"
      },
      "outputs": [
        {
          "output_type": "stream",
          "name": "stdout",
          "text": [
            "Hallo, Rifa!\n"
          ]
        }
      ],
      "source": [
        "def sapa (nama):\n",
        "  return f\"Hallo, {nama}!\"\n",
        "\n",
        "# menggunakan fungsi\n",
        "print(sapa(\"Rifa\"))\n",
        "\n"
      ]
    },
    {
      "cell_type": "code",
      "source": [
        "def hitung_total(harga, jumlah):\n",
        "  return harga * jumlah\n",
        "\n",
        "def hitung_diskon(total, persen_diskon):\n",
        "  return total * (persen_diskon / 80)\n",
        "\n",
        "harga_barang = 25000\n",
        "jumlah_barang = 15\n",
        "total = hitung_total(harga_barang, jumlah_barang)\n",
        "diskon = hitung_diskon(total, 20)\n",
        "\n",
        "print(f\"Total: Rp{total}\")\n",
        "print(f\"Total diskon: Rp{diskon}\")\n",
        "print(f\"bayar : Rp{total - diskon}\")"
      ],
      "metadata": {
        "colab": {
          "base_uri": "https://localhost:8080/"
        },
        "id": "wa4dfDUxL6c2",
        "outputId": "9a32674e-5a62-496a-fb85-5149f7dcaa0c"
      },
      "execution_count": null,
      "outputs": [
        {
          "output_type": "stream",
          "name": "stdout",
          "text": [
            "Total: Rp375000\n",
            "Total diskon: Rp93750.0\n",
            "bayar : Rp281250.0\n"
          ]
        }
      ]
    },
    {
      "cell_type": "code",
      "source": [
        "def misteri(x, y)\n",
        "  if x > y :\n",
        "    return x * 3\n",
        "  else:\n",
        "    return y + 6\n",
        "\n",
        "print(misteri(4, 8))\n",
        "print(misteri(7, 3))\n"
      ],
      "metadata": {
        "id": "Fu2ukw7cLqJG"
      },
      "execution_count": null,
      "outputs": []
    },
    {
      "cell_type": "code",
      "source": [
        "def Biodata():\n",
        "    \"\"\"Menampilkan biodata lengkap praktikan.\"\"\"\n",
        "\n",
        "    print(\"=== BIODATA PRAKTIKAN ===\")\n",
        "    print(\"Nama         : Rifa Halwani\")\n",
        "    print(\"NIM          : 423211015\")\n",
        "    print(\"Program Studi: Rekayasa Pembangkit Energi\")\n",
        "    print(\"Fakultas     : Elektro\")\n",
        "    print(\"Universitas  : Politeknik Negeri Batam\")\n",
        "    print(\"Hobi         : Renang, Sepak Bola, bermain gitar\")\n",
        "\n",
        "\n",
        "Biodata()\n"
      ],
      "metadata": {
        "colab": {
          "base_uri": "https://localhost:8080/"
        },
        "id": "merwEgw2XZ18",
        "outputId": "287208d7-3574-4f8f-ca60-f6f05f068825"
      },
      "execution_count": null,
      "outputs": [
        {
          "output_type": "stream",
          "name": "stdout",
          "text": [
            "=== BIODATA PRAKTIKAN ===\n",
            "Nama         : Rifa Halwani\n",
            "NIM          : 423211015\n",
            "Program Studi: Rekayasa Pembangkit Energi\n",
            "Fakultas     : Elektro\n",
            "Universitas  : Politeknik Negeri Batam\n",
            "Hobi         : Renang, Sepak Bola, bermain gitar\n"
          ]
        }
      ]
    },
    {
      "cell_type": "code",
      "source": [
        "# SOAL 2: Menghitung Volume Kubus\n",
        "def hitung_volume_kubus(sisi):\n",
        "    \"\"\"Menghitung volume kubus dari panjang sisinya.\"\"\"\n",
        "    return sisi ** 3\n",
        "\n",
        "# Pemanggilan:\n",
        "panjang_sisi = 5\n",
        "print(f\"Volume kubus dengan sisi {panjang_sisi} adalah: {hitung_volume_kubus(panjang_sisi)}\")"
      ],
      "metadata": {
        "colab": {
          "base_uri": "https://localhost:8080/"
        },
        "id": "zHW3UL7oYPXd",
        "outputId": "2910f930-2c6c-4398-d7be-149152683a98"
      },
      "execution_count": null,
      "outputs": [
        {
          "output_type": "stream",
          "name": "stdout",
          "text": [
            "Volume kubus dengan sisi 5 adalah: 125\n"
          ]
        }
      ]
    },
    {
      "cell_type": "code",
      "source": [
        "def hitung_rata_rata_validasi(data_nilai):\n",
        "    \"\"\"Menghitung rata-rata, mengabaikan atau memberi penalti pada nilai tidak valid.\"\"\"\n",
        "    total = 0\n",
        "    jumlah_data = 0\n",
        "\n",
        "    for nilai in data_nilai:\n",
        "        if 0 <= nilai <= 100:\n",
        "            total += nilai\n",
        "            jumlah_data += 1\n",
        "        else:\n",
        "            print(f\"Nilai {nilai} tidak valid! Dikenakan penalti (nilai dianggap 0).\")\n",
        "            total += 0\n",
        "            jumlah_data += 1\n",
        "\n",
        "    if jumlah_data > 0:\n",
        "        return total / jumlah_data\n",
        "    return 0\n",
        "\n",
        "\n",
        "nilai_praktikan2 = [85, 105, 92, -10, 90]\n",
        "print(f\"Nilai rata-rata (dengan validasi) adalah: {hitung_rata_rata_validasi(nilai_praktikan2)}\")\n"
      ],
      "metadata": {
        "colab": {
          "base_uri": "https://localhost:8080/"
        },
        "id": "lJnlQ2GSbFqV",
        "outputId": "3cba0c26-ca6a-455f-a1bc-075f8493bd96"
      },
      "execution_count": null,
      "outputs": [
        {
          "output_type": "stream",
          "name": "stdout",
          "text": [
            "Nilai 105 tidak valid! Dikenakan penalti (nilai dianggap 0).\n",
            "Nilai -10 tidak valid! Dikenakan penalti (nilai dianggap 0).\n",
            "Nilai rata-rata (dengan validasi) adalah: 53.4\n"
          ]
        }
      ]
    },
    {
      "cell_type": "code",
      "source": [
        "# SOAL 4: Sistem Penentuan Predikat Nilai\n",
        "def tentukan_predikat(skor):\n",
        "    \"\"\"Menentukan predikat (A, B, C, D, E) berdasarkan skor.\"\"\"\n",
        "    if skor >= 85:\n",
        "        return \"A\"\n",
        "    elif skor >= 75:\n",
        "        return \"B\"\n",
        "    elif skor >= 60:\n",
        "        return \"C\"\n",
        "    elif skor >= 50:\n",
        "        return \"D\"\n",
        "    else:\n",
        "        return \"E\"\n",
        "\n",
        "# Pemanggilan:\n",
        "print(f\"Skor 75 mendapat predikat: {tentukan_predikat(75)}\")\n",
        "print(f\"Skor 48 mendapat predikat: {tentukan_predikat(48)}\")\n"
      ],
      "metadata": {
        "colab": {
          "base_uri": "https://localhost:8080/"
        },
        "id": "1MlSM4Sebhvl",
        "outputId": "7d7c6a5a-7f97-4790-eba2-db49e9c64dc5"
      },
      "execution_count": null,
      "outputs": [
        {
          "output_type": "stream",
          "name": "stdout",
          "text": [
            "Skor 75 mendapat predikat: B\n",
            "Skor 48 mendapat predikat: E\n"
          ]
        }
      ]
    },
    {
      "cell_type": "code",
      "source": [
        "# SOAL 5: Menghitung Faktorial dengan Loop While\n",
        "def hitung_faktorial(n):\n",
        "    \"\"\"Menghitung faktorial dari bilangan positif n.\"\"\"\n",
        "    hasil = 1\n",
        "\n",
        "    # Perulangan berjalan selama n lebih besar dari 1\n",
        "    while n > 1:\n",
        "        hasil *= n\n",
        "        n -= 1\n",
        "    return hasil\n",
        "\n",
        "\n",
        "# Pemanggilan:\n",
        "bilangan_n = 4\n",
        "print(f\"Faktorial dari {bilangan_n} adalah: {hitung_faktorial(bilangan_n)}\")\n"
      ],
      "metadata": {
        "colab": {
          "base_uri": "https://localhost:8080/"
        },
        "id": "q9yhq0xgcijl",
        "outputId": "8c626460-4dbf-4bac-e8a5-135e5f916556"
      },
      "execution_count": null,
      "outputs": [
        {
          "output_type": "stream",
          "name": "stdout",
          "text": [
            "Faktorial dari 4 adalah: 24\n"
          ]
        }
      ]
    },
    {
      "cell_type": "code",
      "source": [
        "# SOAL 6: Analisis Data Suhu Ekstrem (for dan if/elif)\n",
        "def analisis_suhu(data_suhu):\n",
        "    \"\"\"Menghitung jumlah hari Panas dan Dingin dari data_suhu.\"\"\"\n",
        "    panas_count = 0\n",
        "    dingin_count = 0\n",
        "\n",
        "    for suhu in data_suhu:\n",
        "        if suhu >= 35:\n",
        "            panas_count += 1\n",
        "        elif suhu <= 15:\n",
        "            dingin_count += 1\n",
        "\n",
        "    return panas_count, dingin_count\n",
        "\n",
        "# Pemanggilan:\n",
        "suhu_mingguan = [36, 30, 14, 25, 38, 16, 28]\n",
        "jumlah_panas, jumlah_dingin = analisis_suhu(suhu_mingguan)\n",
        "print(f\"Jumlah hari Panas (>=35°C): {jumlah_panas}\")\n",
        "print(f\"Jumlah hari Dingin (<=15°C): {jumlah_dingin}\")\n",
        "\n",
        "\n"
      ],
      "metadata": {
        "id": "DyebmVdodE-2",
        "colab": {
          "base_uri": "https://localhost:8080/"
        },
        "outputId": "3890391f-9d53-4e77-c1ff-f2096fc0d878"
      },
      "execution_count": 1,
      "outputs": [
        {
          "output_type": "stream",
          "name": "stdout",
          "text": [
            "Jumlah hari Panas (>=35°C): 2\n",
            "Jumlah hari Dingin (<=15°C): 1\n"
          ]
        }
      ]
    }
  ]
}