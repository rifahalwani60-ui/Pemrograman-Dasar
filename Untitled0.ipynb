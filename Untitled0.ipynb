{
  "nbformat": 4,
  "nbformat_minor": 0,
  "metadata": {
    "colab": {
      "provenance": [],
      "authorship_tag": "ABX9TyPUDwZtZkV1fGEzBYci8jPb",
      "include_colab_link": true
    },
    "kernelspec": {
      "name": "python3",
      "display_name": "Python 3"
    },
    "language_info": {
      "name": "python"
    }
  },
  "cells": [
    {
      "cell_type": "markdown",
      "metadata": {
        "id": "view-in-github",
        "colab_type": "text"
      },
      "source": [
        "<a href=\"https://colab.research.google.com/github/rifahalwani60-ui/Pemrograman-Dasar/blob/main/Untitled0.ipynb\" target=\"_parent\"><img src=\"https://colab.research.google.com/assets/colab-badge.svg\" alt=\"Open In Colab\"/></a>"
      ]
    },
    {
      "cell_type": "code",
      "source": [
        "# Contoh penggunaan If tunggal\n",
        "\n",
        "# variabel untuk menyimpan umur pengunjung\n",
        "umur : int = 20\n",
        "\n",
        "# program hanya akan mecetak pesan jika umur diatas 17\n",
        "if umur > 17:\n",
        "  print(\"pengunjung adalah orang dewasa.\")"
      ],
      "metadata": {
        "colab": {
          "base_uri": "https://localhost:8080/"
        },
        "id": "9tksXGdT_VXl",
        "outputId": "07a33834-6fa9-490b-d92a-d1c10c6b8789"
      },
      "execution_count": null,
      "outputs": [
        {
          "output_type": "stream",
          "name": "stdout",
          "text": [
            "pengunjung adalah orang dewasa.\n"
          ]
        }
      ]
    },
    {
      "cell_type": "code",
      "source": [
        "username = input(\"masukan user name: \")\n",
        "password = input(\"masukan password: \")\n",
        "\n",
        "if username == \"admin\" and password == \"12345\":\n",
        "  print(\"login berhasil\")\n",
        "else:\n",
        "  print(\"login gagal\")"
      ],
      "metadata": {
        "colab": {
          "base_uri": "https://localhost:8080/"
        },
        "id": "W3pi7sejFNrd",
        "outputId": "aa829d37-e7c8-48c8-da90-8079a9c74c17"
      },
      "execution_count": null,
      "outputs": [
        {
          "output_type": "stream",
          "name": "stdout",
          "text": [
            "masukan user name: Rifa halwani\n",
            "masukan password: \"12345\"\n",
            "login gagal\n"
          ]
        }
      ]
    },
    {
      "cell_type": "code",
      "source": [
        "# Program untuk mengecek bonus dan diskon\n",
        "\n",
        "total_belanja = int(input(\"total belanja: Rp \"))\n",
        "\n",
        "# jumlah yang harus dibayar adalah berapa total belanjanya\n",
        "\n",
        "# tapi kalo dapat diskon akan berkurang\n",
        "bayar = int(total_belanja)\n",
        "\n",
        "# jika dia belanja di atas 100rb maka berikan bonus dan diskon\n",
        "\n",
        "if int(total_belanja) > 100000:\n",
        "  print(\"selamat karena belanja > Rp. 100.000 anda mendapat vocer makan \")\n",
        "  print(\"dan diskos 5%\")\n",
        "  # hitung diskonya\n",
        "  diskon = int(total_belanja) * 5/100 #5%\n",
        "  bayar = int(total_belanja) - diskon\n",
        "\n",
        "# cetak struk\n",
        "print(\"total yang harus di bayar: Rp %s\" % bayar)\n",
        "print(\"Terima kasih sundah belanja di Toko kami\")\n",
        "print(\"Kami tunggu kunjungan anda selanjutnya\")\n",
        "\n"
      ],
      "metadata": {
        "colab": {
          "base_uri": "https://localhost:8080/"
        },
        "id": "cgvgcOpiGyeX",
        "outputId": "98f67af2-a54a-47b4-b6e1-81174539b41e"
      },
      "execution_count": null,
      "outputs": [
        {
          "output_type": "stream",
          "name": "stdout",
          "text": [
            "total belanja: Rp 100000\n",
            "total yang harus di bayar: Rp 100000\n",
            "Terima kasih sundah belanja di Toko kami\n",
            "Kami tunggu kunjungan anda selanjutnya\n"
          ]
        }
      ]
    },
    {
      "cell_type": "code",
      "source": [
        "umur = input(\"berapa umur kamu: \")\n",
        "if int(umur) >= 18:\n",
        "  print(\"anda boleh membuat sim\")\n",
        "else:\n",
        "  print(\"anda belum boleh membuat sim\")"
      ],
      "metadata": {
        "colab": {
          "base_uri": "https://localhost:8080/"
        },
        "id": "ePiEe_UEzACX",
        "outputId": "44f0374b-0b84-47d3-c883-209fdeffc50a"
      },
      "execution_count": null,
      "outputs": [
        {
          "output_type": "stream",
          "name": "stdout",
          "text": [
            "berapa umur kamu: 18\n",
            "anda boleh membuat sim\n"
          ]
        }
      ]
    },
    {
      "cell_type": "code",
      "source": [
        "#contoh percabangan ganda, asumsikan belanja di atas 20 rb\n",
        "\n",
        "\n",
        "if total_belanja > 200000:\n",
        "  diskon = total_belanja * 0.10\n",
        "  total_bayar = total_belanja - diskon\n",
        "  print(f\" anda medapatkan diskon total! total bayar : Rp {total_bayar}\")\n",
        "else:\n",
        "  print(f\"total_bayar: Rp {total_belanja}\")\n"
      ],
      "metadata": {
        "colab": {
          "base_uri": "https://localhost:8080/"
        },
        "id": "CWldDCxvzzzy",
        "outputId": "3e4eb559-0379-4558-f689-e0c4683846df"
      },
      "execution_count": null,
      "outputs": [
        {
          "output_type": "stream",
          "name": "stdout",
          "text": [
            "total_bayar: Rp 100000\n"
          ]
        }
      ]
    },
    {
      "cell_type": "code",
      "source": [
        "angka = int(input(\"masukan bilangan: \"))\n",
        "\n",
        "if angka % 2 == 0:\n",
        "  print(\"bilangan genap\")\n",
        "else:\n",
        "  print(\"bilangan ganjil\")"
      ],
      "metadata": {
        "colab": {
          "base_uri": "https://localhost:8080/"
        },
        "id": "UnCRCVy-28ME",
        "outputId": "dc7b14e7-a28b-453c-85d9-1b57c73f06a0"
      },
      "execution_count": null,
      "outputs": [
        {
          "output_type": "stream",
          "name": "stdout",
          "text": [
            "masukan bilangan: 6\n",
            "bilangan genap\n"
          ]
        }
      ]
    },
    {
      "cell_type": "code",
      "source": [
        "#Contoh penggunaan If majemuk\n",
        "\n",
        "nilai = 80\n",
        "if nilai>= 85:\n",
        "  print(\"Luar biasa! nilai A\")\n",
        "elif nilai >= 70:\n",
        "  print(\"bagus! nilai B\")\n",
        "elif nilai >= 60:\n",
        "  print(\"cukup. nilai C\")\n",
        "else:\n",
        "  print(\"nilai kurang, perlu belajar lebih giat.\")"
      ],
      "metadata": {
        "colab": {
          "base_uri": "https://localhost:8080/"
        },
        "id": "PkwKRzIu4GXk",
        "outputId": "8794efe4-9e3b-40f3-85d9-02492841db17"
      },
      "execution_count": null,
      "outputs": [
        {
          "output_type": "stream",
          "name": "stdout",
          "text": [
            "bagus! nilai B\n"
          ]
        }
      ]
    },
    {
      "cell_type": "code",
      "source": [],
      "metadata": {
        "id": "s96r5NAaSdOZ"
      },
      "execution_count": null,
      "outputs": []
    },
    {
      "cell_type": "code",
      "source": [
        "# menentukan diskon mengenai hari\n",
        "hari: str = \"sabtu\"\n",
        "\n",
        "if hari == \"sabtu\" or hari == \"minggu\":\n",
        "  diskon: float = 0.20 #Diskon 20%\n",
        "  print(f\" selamat! anda mendapat diskon akhir pekan sebesar {diskon*100}%.\" )\n",
        "elif hari == \"jumat\":\n",
        "  diskon: float = 0.15 # diskon 15%\n",
        "  print(f\" diskon spesial  jumat! anda dapat potongan! {diskon*100}%.\")\n",
        "else :\n",
        "  diskon: float = 0.05 # dikon 5%\n",
        "  print(f\" anda mendapat diskon hari biasa sebesar {diskon*100}%. \")"
      ],
      "metadata": {
        "colab": {
          "base_uri": "https://localhost:8080/"
        },
        "id": "mOHD_f3y5dTe",
        "outputId": "eebf0658-5861-4634-addb-b8a87fefcd52"
      },
      "execution_count": null,
      "outputs": [
        {
          "output_type": "stream",
          "name": "stdout",
          "text": [
            " selamat! anda mendapat diskon akhir pekan sebesar 20.0%.\n"
          ]
        }
      ]
    },
    {
      "cell_type": "code",
      "source": [
        "rupiah = int(input(\"masukan jumlah uang (Rp): \"))\n",
        "print(\"1 Dollar (USD)\")\n",
        "print(\"2 Euro (EUR)\")\n",
        "print(\"3 Yen (JPY)\")\n",
        "\n",
        "try:\n",
        "  pilih = int(input(\"pilih konversi (1/2/3): \"))\n",
        "except ValueError:\n",
        "  print(\"Input tidak valid. Masukan angka 1, 2, atau 3.\")\n",
        "  pilih = 0 # Set pilih to 0 to trigger the 'pilihan tidak valid' message\n",
        "\n",
        "if pilih == 1:\n",
        "  print(\"Dalam dollar:\", rupiah/ 15000)\n",
        "elif pilih == 2:\n",
        "  print(\"Dalam euro:\", rupiah/ 16000)\n",
        "elif pilih == 3:\n",
        "  print(\"Dalam yen:\", rupiah/ 120)\n",
        "else:\n",
        "  print(\"pilihan tidak valid.\")"
      ],
      "metadata": {
        "colab": {
          "base_uri": "https://localhost:8080/"
        },
        "id": "51qnun1qSJpj",
        "outputId": "7a6a5394-75c8-4d36-f42f-b9275f6bb5fa"
      },
      "execution_count": null,
      "outputs": [
        {
          "output_type": "stream",
          "name": "stdout",
          "text": [
            "masukan jumlah uang (Rp): 300000\n",
            "1 Dollar (USD)\n",
            "2 Euro (EUR)\n",
            "3 Yen (JPY)\n",
            "pilih konversi (1/2/3): 1\n",
            "Dalam dollar: 20.0\n"
          ]
        }
      ]
    },
    {
      "cell_type": "code",
      "source": [
        "# 1. Latihan program menampilkan \"kelipatan 5\"\n",
        "\n",
        "angka = int(input(\"masukan angka: \"))\n",
        "\n",
        "if angka % 5 == 0:\n",
        "  print(\"kelipatan 5\")\n",
        "else:\n",
        "  print(\"bukan kelipatan 5\")\n",
        "\n",
        "print(\"_\" *40)"
      ],
      "metadata": {
        "colab": {
          "base_uri": "https://localhost:8080/"
        },
        "id": "FL9CwNV_SefW",
        "outputId": "019ec556-6189-44e3-c20a-4ac8a6e5d107"
      },
      "execution_count": null,
      "outputs": [
        {
          "output_type": "stream",
          "name": "stdout",
          "text": [
            "masukan angka: 5\n",
            "kelipatan 5\n",
            "________________________________________\n"
          ]
        }
      ]
    },
    {
      "cell_type": "code",
      "source": [
        "# 2. Menetukan tahun kabisat\n",
        "\n",
        "tahun = int(input(\"masukan tahun: \"))\n",
        "\n",
        "if tahun % 400 == 0:\n",
        "  print(f\"{tahun} adalah tahun kabisat.\")\n",
        "elif tahun % 4 == 0 and tahun % 100 != 0:\n",
        "  print(f\"{tahun} adalah tahun kabisat.\")\n",
        "else:\n",
        "  print(f\"{tahun} bukan tahun kabisat.\")\n",
        "print(\"_\" *40)"
      ],
      "metadata": {
        "colab": {
          "base_uri": "https://localhost:8080/"
        },
        "id": "zjHGksajUp2V",
        "outputId": "13a4999e-8278-45ca-a496-f76bea0318f2"
      },
      "execution_count": null,
      "outputs": [
        {
          "output_type": "stream",
          "name": "stdout",
          "text": [
            "masukan tahun: 8\n",
            "8 adalah tahun kabisat.\n",
            "________________________________________\n"
          ]
        }
      ]
    },
    {
      "cell_type": "code",
      "source": [
        "# 3. Soal matematika dengan kondisi\n",
        "\n",
        "print(\"soal: 8 + 12 =\")\n",
        "jawaban = int(input(\"masukan jawaban: \"))\n",
        "\n",
        "if jawaban == 20:\n",
        "  print(\"jawaban benar\")\n",
        "else:\n",
        "  print(\"jawaban salah, seharusnya 20.\")\n",
        "\n",
        "print(\"_\" *40)"
      ],
      "metadata": {
        "colab": {
          "base_uri": "https://localhost:8080/"
        },
        "id": "vnOyzrFGWJ6f",
        "outputId": "4a99274d-83c0-4b9c-a962-49e8d7bfc0c3"
      },
      "execution_count": null,
      "outputs": [
        {
          "output_type": "stream",
          "name": "stdout",
          "text": [
            "soal: 8 + 12 =\n",
            "masukan jawaban: 20\n",
            "jawaban benar\n",
            "________________________________________\n"
          ]
        }
      ]
    },
    {
      "cell_type": "code",
      "source": [
        "# 4. Program menampilkan nama bulan\n",
        "bulan = int(input(\"masukan angka bulan: \"))\n",
        "if bulan == 1:\n",
        "  print(\"januari\")\n",
        "elif bulan == 2:\n",
        "  print(\"februari\")\n",
        "elif bulan == 3:\n",
        "  print(\"maret\")\n",
        "elif bulan == 4:\n",
        "  print(\"april\")\n",
        "elif bulan == 5:\n",
        "  print(\"mei\")\n",
        "elif bulan == 6:\n",
        "  print(\"juni\")\n",
        "elif bulan == 7:\n",
        "  print(\"juli\")\n",
        "elif bulan == 8:\n",
        "  print(\"agustus\")\n",
        "elif bulan == 9:\n",
        "  print(\"september\")\n",
        "elif bulan == 10:\n",
        "  print(\"oktober\")\n",
        "elif bulan == 11:\n",
        "  print(\"november\")\n",
        "elif bulan == 12:\n",
        "  print(\"desember\")\n",
        "else:\n",
        "  print(\"input salah\")\n",
        "print(\"_\" *40)"
      ],
      "metadata": {
        "colab": {
          "base_uri": "https://localhost:8080/"
        },
        "id": "OsuSXGajXKgA",
        "outputId": "4d807061-923d-471d-adbc-d61e4fe1b98b"
      },
      "execution_count": null,
      "outputs": [
        {
          "output_type": "stream",
          "name": "stdout",
          "text": [
            "masukan angka bulan: 12\n",
            "desember\n",
            "________________________________________\n"
          ]
        }
      ]
    },
    {
      "cell_type": "code",
      "source": [
        "# 5 program menampilkan salam berdasarkan jam\n",
        "\n",
        "jam = int(input(\"masukan jam: \"))\n",
        "if 0 <= jam < 12:\n",
        "  print(\"selamat pagi!\")\n",
        "elif 12 <= jam < 15:\n",
        "  print(\"selamat siang!\")\n",
        "elif 16 <= jam < 18:\n",
        "  print(\"selamat sore!\")\n",
        "elif 19 <= jam < 23:\n",
        "  print(\"selamat malam!\")\n",
        "else:\n",
        "  print(\"Input jam tidak valid\")\n",
        "print(\"_\" *40)"
      ],
      "metadata": {
        "colab": {
          "base_uri": "https://localhost:8080/"
        },
        "id": "BmxgG2HAZBdA",
        "outputId": "fb07899f-8da8-41f1-e32d-0b9839e9edbf"
      },
      "execution_count": null,
      "outputs": [
        {
          "output_type": "stream",
          "name": "stdout",
          "text": [
            "masukan jam: 12\n",
            "selamat siang!\n",
            "________________________________________\n"
          ]
        }
      ]
    },
    {
      "cell_type": "code",
      "source": [
        "# Tugas Praktikum 4\n",
        "\n",
        "print(\"=\"*40)\n",
        "print(\"SELAMAT DATANG DI KAFE GEMINI\")\n",
        "print(\"=\"*40)\n",
        "print(\"Menu Makanan & Minuman:\")\n",
        "print(\"1. Kopi Hitam  - Rp 12.000\")\n",
        "print(\"2. Teh Manis   - Rp 8.000\")\n",
        "print(\"3. Roti Bakar   - Rp 15.000\")\n",
        "print(\"4. Mie Instan  - Rp 10.000\")\n",
        "print(\"=\"*40)\n",
        "\n",
        "pilihan_str = input(\"Silakan masukkan nomor pilihan Anda (1-4): \")\n",
        "pilihan = int(pilihan_str)\n",
        "nama_pesanan = \"\"\n",
        "harga = 0\n",
        "\n",
        "if pilihan == 1:\n",
        "    nama_pesanan = \"Kopi Hitam\"\n",
        "    harga = 12000\n",
        "elif pilihan == 2:\n",
        "    nama_pesanan = \"Teh Manis\"\n",
        "    harga = 8000\n",
        "elif pilihan == 3:\n",
        "    nama_pesanan = \"Roti Bakar\"\n",
        "    harga = 15000\n",
        "elif pilihan == 4:\n",
        "    nama_pesanan = \"Mie Instan\"\n",
        "    harga = 10000\n",
        "else:\n",
        "    print(\"Maaf, pilihan Anda tidak valid. Silakan jalankan ulang program.\")\n",
        "    exit()\n",
        "\n",
        "\n",
        "jumlah = int(input(f\"Berapa jumlah {nama_pesanan} yang ingin Anda pesan? \"))\n",
        "total = harga * jumlah\n",
        "print(f\"\\nAnda memesan {jumlah} {nama_pesanan} dengan total harga Rp {total:,}\")\n",
        "\n",
        "# logika diskon\n",
        "if total >= 100000:\n",
        "    diskon = 0.7    # 70%\n",
        "elif total >= 50000:\n",
        "    diskon = 0.5    # 50%\n",
        "elif total >= 25000:\n",
        "    diskon = 0.3    # 30%\n",
        "else:\n",
        "    diskon = 0      # Tidak ada diskon\n",
        "\n",
        "\n",
        "potongan = total * diskon\n",
        "total_setelah_diskon = total - potongan\n",
        "\n",
        "print(\"-\"*40)\n",
        "print(f\"Total sebelum diskon : Rp {total:,}\")\n",
        "print(f\"Diskon ({int(diskon*100)}%)      : Rp {potongan:,}\")\n",
        "print(f\"Total bayar akhir     : Rp {total_setelah_diskon:,}\")\n",
        "print(\"-\"*40)\n",
        "\n",
        "\n",
        "uang_dibayar = int(input(\"Masukkan jumlah uang yang dibayar: Rp \"))\n",
        "\n",
        "if uang_dibayar > total_setelah_diskon:\n",
        "    kembalian = uang_dibayar - total_setelah_diskon\n",
        "    print(f\"Kembalian Anda: Rp {kembalian:,}\")\n",
        "elif uang_dibayar == total_setelah_diskon:\n",
        "    print(\"Uang Anda pas. Terima kasih sudah berbelanja!\")\n",
        "else:\n",
        "    kurang = total_setelah_diskon - uang_dibayar\n",
        "    print(f\"Maaf, uang Anda kurang Rp {kurang:,}\")\n",
        "\n",
        "print(\"=\"*40)\n",
        "print(\"TERIMA KASIH TELAH BERKUNJUNG DI KAFE GEMINI ☕\")\n",
        "print(\"=\"*40)\n"
      ],
      "metadata": {
        "colab": {
          "base_uri": "https://localhost:8080/"
        },
        "id": "O_syU2j0KUKN",
        "outputId": "1b9c05cf-5355-42b7-8840-625bb5d1e807"
      },
      "execution_count": 4,
      "outputs": [
        {
          "output_type": "stream",
          "name": "stdout",
          "text": [
            "========================================\n",
            "SELAMAT DATANG DI KAFE GEMINI\n",
            "========================================\n",
            "Menu Makanan & Minuman:\n",
            "1. Kopi Hitam  - Rp 12.000\n",
            "2. Teh Manis   - Rp 8.000\n",
            "3. Roti Bakar   - Rp 15.000\n",
            "4. Mie Instan  - Rp 10.000\n",
            "========================================\n",
            "Silakan masukkan nomor pilihan Anda (1-4): 3\n",
            "Berapa jumlah Roti Bakar yang ingin Anda pesan? 4\n",
            "\n",
            "Anda memesan 4 Roti Bakar dengan total harga Rp 60,000\n",
            "----------------------------------------\n",
            "Total sebelum diskon : Rp 60,000\n",
            "Diskon (50%)      : Rp 30,000.0\n",
            "Total bayar akhir     : Rp 30,000.0\n",
            "----------------------------------------\n",
            "Masukkan jumlah uang yang dibayar: Rp 30000\n",
            "Uang Anda pas. Terima kasih sudah berbelanja!\n",
            "========================================\n",
            "TERIMA KASIH TELAH BERKUNJUNG DI KAFE GEMINI ☕\n",
            "========================================\n"
          ]
        }
      ]
    }
  ]
}