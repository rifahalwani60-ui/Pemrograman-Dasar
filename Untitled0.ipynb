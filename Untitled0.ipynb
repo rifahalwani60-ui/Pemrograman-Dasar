{
  "nbformat": 4,
  "nbformat_minor": 0,
  "metadata": {
    "colab": {
      "provenance": [],
      "authorship_tag": "ABX9TyOs4/VROEoNtQDEZ3I8U7PC",
      "include_colab_link": true
    },
    "kernelspec": {
      "name": "python3",
      "display_name": "Python 3"
    },
    "language_info": {
      "name": "python"
    }
  },
  "cells": [
    {
      "cell_type": "markdown",
      "metadata": {
        "id": "view-in-github",
        "colab_type": "text"
      },
      "source": [
        "<a href=\"https://colab.research.google.com/github/rifahalwani60-ui/Pemrograman-Dasar/blob/main/Untitled0.ipynb\" target=\"_parent\"><img src=\"https://colab.research.google.com/assets/colab-badge.svg\" alt=\"Open In Colab\"/></a>"
      ]
    },
    {
      "cell_type": "code",
      "source": [
        "total : input(\"Berapa porsi makan yang anda beli? : \")\n",
        "Nama : input(\"Siapa Nama Pelanggan? : \" )"
      ],
      "metadata": {
        "colab": {
          "base_uri": "https://localhost:8080/"
        },
        "id": "sTIZHwaM2SKQ",
        "outputId": "54d41f7f-e129-4319-e8ca-b69c8d16d274"
      },
      "execution_count": null,
      "outputs": [
        {
          "name": "stdout",
          "output_type": "stream",
          "text": [
            "Berapa porsi makan yang anda beli? : 10\n",
            "Siapa Nama Pelanggan? : Rifa\n"
          ]
        }
      ]
    },
    {
      "cell_type": "code",
      "source": [
        "total = float(input(\"Berapa porsi makan yang anda beli? : \"))\n",
        "Nama = input(\"Siapa Nama Pelanggan? : \")\n"
      ],
      "metadata": {
        "colab": {
          "base_uri": "https://localhost:8080/"
        },
        "id": "D_q60pI_2wvq",
        "outputId": "17810fb6-05fd-4008-ae46-d1c3e9fb0467"
      },
      "execution_count": null,
      "outputs": [
        {
          "name": "stdout",
          "output_type": "stream",
          "text": [
            "Berapa porsi makan yang anda beli? : 3.5\n",
            "Siapa Nama Pelanggan? : Rifa\n"
          ]
        }
      ]
    },
    {
      "cell_type": "code",
      "source": [
        "food = \"Mi ayam bakso\"\n",
        "print = (\"Rifa sedang memesan\", food)"
      ],
      "metadata": {
        "id": "PsN1_4_GoUwt"
      },
      "execution_count": 2,
      "outputs": []
    },
    {
      "cell_type": "code",
      "source": [
        "food = \"Mi ayam bakso\"\n",
        "print = (\"Rifa sedang memesan\", food)\n",
        "print = (\"Rifa selesai memesan\"+ food)\n",
        "print = (\"Rifa selesai memesan %s\" % food)"
      ],
      "metadata": {
        "id": "fu60_vTqKwtc"
      },
      "execution_count": 4,
      "outputs": []
    },
    {
      "cell_type": "code",
      "source": [
        "# contoh program  format output\n",
        "\n",
        "nama = input(\"Masukan nama anda: \")\n",
        "usia = int(input(\"masukan usia anda: \"))\n",
        "tinggi = float(input(\"masukan tinggi badan anda: \"))\n",
        "angka = int(input(\"masukan angka: \"))\n",
        "\n",
        "# %s untuk string\n",
        "print(\"Halo, nama saya %s\" % ( nama ) )\n",
        "\n",
        "# %d untuk integer\n",
        "print(\"usia saya %d tahun\" (usia))\n",
        "\n",
        "# %f untuk float\n",
        "print(\"Tinggi badan saya %f cm\" % (tinggi))\n",
        "\n",
        "# %x untuk hexadesimal\n",
        "print(\"Angka %d dalam hexadesimal adalah %x\" % (angka, angka))\n",
        "\n",
        "# %o untuk oktal\n",
        "print(\"angka %d dalam oktal adalah %o\" (angka, angka))"
      ],
      "metadata": {
        "colab": {
          "base_uri": "https://localhost:8080/",
          "height": 401
        },
        "id": "Z7cMBRd8RNle",
        "outputId": "14391593-f142-4b6d-ada7-4a36ca8f2fcb"
      },
      "execution_count": 4,
      "outputs": [
        {
          "output_type": "stream",
          "name": "stderr",
          "text": [
            "<>:12: SyntaxWarning: 'str' object is not callable; perhaps you missed a comma?\n",
            "<>:21: SyntaxWarning: 'str' object is not callable; perhaps you missed a comma?\n",
            "<>:12: SyntaxWarning: 'str' object is not callable; perhaps you missed a comma?\n",
            "<>:21: SyntaxWarning: 'str' object is not callable; perhaps you missed a comma?\n"
          ]
        },
        {
          "output_type": "stream",
          "name": "stdout",
          "text": [
            "Masukan nama anda: Rifa halwani\n",
            "masukan usia anda: 25\n",
            "masukan tinggi badan anda: 167\n",
            "masukan angka: 8\n",
            "Halo, nama saya Rifa halwani\n"
          ]
        },
        {
          "output_type": "stream",
          "name": "stderr",
          "text": [
            "/tmp/ipython-input-3792332969.py:12: SyntaxWarning: 'str' object is not callable; perhaps you missed a comma?\n",
            "  print(\"usia saya %d tahun\" (usia))\n"
          ]
        },
        {
          "output_type": "error",
          "ename": "TypeError",
          "evalue": "'str' object is not callable",
          "traceback": [
            "\u001b[0;31m---------------------------------------------------------------------------\u001b[0m",
            "\u001b[0;31mTypeError\u001b[0m                                 Traceback (most recent call last)",
            "\u001b[0;32m/tmp/ipython-input-3792332969.py\u001b[0m in \u001b[0;36m<cell line: 0>\u001b[0;34m()\u001b[0m\n\u001b[1;32m     10\u001b[0m \u001b[0;34m\u001b[0m\u001b[0m\n\u001b[1;32m     11\u001b[0m \u001b[0;31m# %d untuk integer\u001b[0m\u001b[0;34m\u001b[0m\u001b[0;34m\u001b[0m\u001b[0m\n\u001b[0;32m---> 12\u001b[0;31m \u001b[0mprint\u001b[0m\u001b[0;34m(\u001b[0m\u001b[0;34m\"usia saya %d tahun\"\u001b[0m \u001b[0;34m(\u001b[0m\u001b[0musia\u001b[0m\u001b[0;34m)\u001b[0m\u001b[0;34m)\u001b[0m\u001b[0;34m\u001b[0m\u001b[0;34m\u001b[0m\u001b[0m\n\u001b[0m\u001b[1;32m     13\u001b[0m \u001b[0;34m\u001b[0m\u001b[0m\n\u001b[1;32m     14\u001b[0m \u001b[0;31m# %f untuk float\u001b[0m\u001b[0;34m\u001b[0m\u001b[0;34m\u001b[0m\u001b[0m\n",
            "\u001b[0;31mTypeError\u001b[0m: 'str' object is not callable"
          ]
        }
      ]
    },
    {
      "cell_type": "code",
      "source": [
        "# Contoh program format output\n",
        "\n",
        "# Input data dari user\n",
        "nama = input(\"Masukkan nama Anda: \")\n",
        "usia = int(input(\"Masukkan usia Anda: \"))\n",
        "tinggi = float(input(\"Masukkan tinggi badan Anda (cm): \"))\n",
        "angka = int(input(\"Masukkan sebuah angka bulat: \"))\n",
        "\n",
        "print(\"\\n=== HASIL OUTPUT ===\")\n",
        "\n",
        "# %s untuk string\n",
        "print(\"Halo, nama saya %s\" % (nama))\n",
        "\n",
        "# %d untuk integer\n",
        "print(\"Usia saya %d tahun\" % (usia))\n",
        "\n",
        "# %f untuk float (default 6 angka di belakang koma)\n",
        "print(\"Tinggi badan saya %f cm\" % (tinggi))\n",
        "\n",
        "# %f dengan 2 angka di belakang koma\n",
        "print(\"Tinggi badan dibulatkan: %.2f cm\" % (tinggi))\n",
        "\n",
        "# %x untuk heksadesimal\n",
        "print(\"Angka %d dalam heksadesimal adalah %x\" % (angka, angka))\n",
        "\n",
        "# %o untuk oktal\n",
        "print(\"Angka %d dalam oktal adalah %o\" % (angka, angka))\n"
      ],
      "metadata": {
        "colab": {
          "base_uri": "https://localhost:8080/"
        },
        "id": "Ftu0tImzFKWB",
        "outputId": "aa9a6752-05f2-4c60-df3b-830660a22baa"
      },
      "execution_count": 6,
      "outputs": [
        {
          "output_type": "stream",
          "name": "stdout",
          "text": [
            "Masukkan nama Anda: Rif halwani\n",
            "Masukkan usia Anda: 25\n",
            "Masukkan tinggi badan Anda (cm): 168\n",
            "Masukkan sebuah angka bulat: 255\n",
            "\n",
            "=== HASIL OUTPUT ===\n",
            "Halo, nama saya Rif halwani\n",
            "Usia saya 25 tahun\n",
            "Tinggi badan saya 168.000000 cm\n",
            "Tinggi badan dibulatkan: 168.00 cm\n",
            "Angka 255 dalam heksadesimal adalah ff\n",
            "Angka 255 dalam oktal adalah 377\n"
          ]
        }
      ]
    },
    {
      "cell_type": "code",
      "source": [
        "# contoh membuat kalkulator sederhana\n",
        "\n",
        "a = 20\n",
        "b = 5\n",
        "\n",
        "print(\"penjumlahan:\", a + b)\n",
        "print(\"pengurangan:\", a - b)\n",
        "print(\"perkalian:\", a * b)\n",
        "print(\"pembagian:\", a / b)\n"
      ],
      "metadata": {
        "colab": {
          "base_uri": "https://localhost:8080/"
        },
        "id": "18lC71ajJXPn",
        "outputId": "8ff6c367-576b-4152-f456-ce1e89cce13a"
      },
      "execution_count": 7,
      "outputs": [
        {
          "output_type": "stream",
          "name": "stdout",
          "text": [
            "penjumlahan: 25\n",
            "pengurangan: 15\n",
            "perkalian: 100\n",
            "pembagian: 4.0\n"
          ]
        }
      ]
    },
    {
      "cell_type": "code",
      "source": [
        "# Program Konversi Total Detik ke Jam:Menit:Detik\n",
        "\n",
        "# Input dari keyboard\n",
        "total_detik = int(input(\"Masukkan total detik:  \"))\n",
        "\n",
        "# Konversi ke jam, menit, detik\n",
        "jam = total_detik // 3600                 # 1 jam = 3600 detik\n",
        "sisa_detik = total_detik % 3600           # sisa setelah dihitung jam\n",
        "menit = sisa_detik // 60                  # 1 menit = 60 detik\n",
        "detik = sisa_detik % 60                   # sisa detik\n",
        "\n",
        "# Output hasil konversi\n",
        "print(f\"Hasil Konversi: {jam} Jam, {menit} Menit, {detik} Detik\")\n",
        "\n"
      ],
      "metadata": {
        "colab": {
          "base_uri": "https://localhost:8080/"
        },
        "id": "yzhJt_xwPCSk",
        "outputId": "a43091db-bfa3-450f-edb9-f0165634915b"
      },
      "execution_count": 2,
      "outputs": [
        {
          "output_type": "stream",
          "name": "stdout",
          "text": [
            "Masukkan total detik:  358200\n",
            "Hasil Konversi: 99 Jam, 30 Menit, 0 Detik\n"
          ]
        }
      ]
    },
    {
      "cell_type": "code",
      "source": [
        "# Program Menghitung Nilai Akhir Mahasiswa\n",
        "\n",
        "# Input nilai dari keyboard\n",
        "tugas1 = float(input(\"Masukkan nilai Tugas 1: \"))\n",
        "tugas2 = float(input(\"Masukkan nilai Tugas 2: \"))\n",
        "tugas3 = float(input(\"Masukkan nilai Tugas 3: \"))\n",
        "uts    = float(input(\"Masukkan nilai UTS: \"))\n",
        "uas    = float(input(\"Masukkan nilai UAS: \"))\n",
        "\n",
        "# Hitung rata-rata tugas\n",
        "rata_tugas = (tugas1 + tugas2 + tugas3) / 3\n",
        "\n",
        "# Hitung nilai akhir dengan bobot (30% tugas, 30% UTS, 40% UAS)\n",
        "nilai_mahasiswa = (0.3 * rata_tugas) + (0.3 * uts) + (0.4 * uas)\n",
        "\n",
        "# Input standar kelulusan\n",
        "standar_kelulusan = float(input(\"Masukkan standar kelulusan: \"))\n",
        "\n",
        "# Logika kelulusan\n",
        "apakah_lulus = nilai_mahasiswa >= standar_kelulusan\n",
        "perlu_remedial = nilai_mahasiswa < standar_kelulusan\n",
        "\n",
        "# Output hasil\n",
        "print(\"\\n=== HASIL PERHITUNGAN ===\")\n",
        "print(f\"Nilai Rata-rata Tugas : {rata_tugas:.2f}\")\n",
        "print(f\"Nilai Akhir Mahasiswa : {nilai_mahasiswa:.2f}\")\n",
        "print(f\"Standar Kelulusan     : {standar_kelulusan}\")\n",
        "print(f\"Apakah Mahasiswa Lulus? {apakah_lulus}\")\n",
        "print(f\"Perlu Remedial? {perlu_remedial}\")\n"
      ],
      "metadata": {
        "colab": {
          "base_uri": "https://localhost:8080/"
        },
        "id": "jGGY-I9Y-ZYp",
        "outputId": "dd041925-ffc5-45eb-cd1e-35e478d7d6d3"
      },
      "execution_count": 3,
      "outputs": [
        {
          "output_type": "stream",
          "name": "stdout",
          "text": [
            "Masukkan nilai Tugas 1: 80\n",
            "Masukkan nilai Tugas 2: 75\n",
            "Masukkan nilai Tugas 3: 85\n",
            "Masukkan nilai UTS: 70\n",
            "Masukkan nilai UAS: 90\n",
            "Masukkan standar kelulusan: 75\n",
            "\n",
            "=== HASIL PERHITUNGAN ===\n",
            "Nilai Rata-rata Tugas : 80.00\n",
            "Nilai Akhir Mahasiswa : 81.00\n",
            "Standar Kelulusan     : 75.0\n",
            "Apakah Mahasiswa Lulus? True\n",
            "Perlu Remedial? False\n"
          ]
        }
      ]
    },
    {
      "cell_type": "code",
      "source": [
        "# latihan cara membuat diskon harga\n",
        "belanja = 850000\n",
        "diskon = (0, 0.1 * belanja)[belanja > belanja]\n",
        "\n",
        "# Input belanja dari keyboard\n",
        "belanja = int(input(\"Masukkan total belanja Anda: \"))\n",
        "\n",
        "# Logika diskon\n",
        "if belanja > 1000000:\n",
        "    diskon = 0.35 * belanja   # diskon 35%\n",
        "elif belanja > 500000:\n",
        "    diskon = 0.10 * belanja   # diskon 10%\n",
        "else:\n",
        "    diskon = 0                # tidak ada diskon\n",
        "\n",
        "# Hitung total harga setelah diskon\n",
        "total_harga = belanja - diskon\n",
        "\n",
        "# Output hasil\n",
        "print(\"\\n=== HASIL PERHITUNGAN ===\")\n",
        "print(f\"Total Belanja       : Rp {belanja}\")\n",
        "print(f\"Diskon Diterapkan   : Rp {diskon}\")\n",
        "print(f\"Total Harga Bayar   : Rp {total_harga}\")\n"
      ],
      "metadata": {
        "colab": {
          "base_uri": "https://localhost:8080/"
        },
        "id": "wtUcyPSZBiaf",
        "outputId": "ffd4f16f-ea21-49a3-fc79-f608b8c57255"
      },
      "execution_count": 4,
      "outputs": [
        {
          "output_type": "stream",
          "name": "stdout",
          "text": [
            "Masukkan total belanja Anda: 1200000\n",
            "\n",
            "=== HASIL PERHITUNGAN ===\n",
            "Total Belanja       : Rp 1200000\n",
            "Diskon Diterapkan   : Rp 420000.0\n",
            "Total Harga Bayar   : Rp 780000.0\n"
          ]
        }
      ]
    },
    {
      "cell_type": "code",
      "source": [
        "# Program Menentukan Tahun Kabisat\n",
        "\n",
        "def cek_kabisat(tahun: int) -> bool:\n",
        "\n",
        "    if (tahun % 4 == 0 and tahun % 100 != 0) or (tahun % 400 == 0):return True\n",
        "\n",
        "    else: return True\n",
        "\n",
        "# Input dari pengguna\n",
        "tahun = int(input(\"Masukkan tahun: \"))\n",
        "\n",
        "# Output hasil\n",
        "if cek_kabisat(tahun):\n",
        "    print(f\"{tahun} adalah tahun kabisat\")\n",
        "else:\n",
        "    print(f\"{tahun} bukan tahun kabisat\")\n"
      ],
      "metadata": {
        "colab": {
          "base_uri": "https://localhost:8080/"
        },
        "id": "8I435bhPHAgp",
        "outputId": "020b9a6c-5470-4cf2-dc2e-c03711ea5e8b"
      },
      "execution_count": 6,
      "outputs": [
        {
          "output_type": "stream",
          "name": "stdout",
          "text": [
            "Masukkan tahun: 4\n",
            "4 adalah tahun kabisat\n"
          ]
        }
      ]
    },
    {
      "cell_type": "code",
      "source": [
        "# Program Kalkulator Sederhana\n",
        "\n",
        "def input_angka():\n",
        "    \"\"\"Fungsi untuk input dua angka dari pengguna\"\"\"\n",
        "    a = float(input(\"Masukkan angka pertama: \"))\n",
        "    b = float(input(\"Masukkan angka kedua: \"))\n",
        "    return a, b\n",
        "\n",
        "def operasi_aritmatika(a, b):\n",
        "    \"\"\"Fungsi untuk melakukan operasi aritmatika dasar\"\"\"\n",
        "    tambah = a + b\n",
        "    kurang = a - b\n",
        "    kali = a * b\n",
        "    bagi = a / b if b != 0 else \"Tidak bisa dibagi 0\"\n",
        "    return tambah, kurang, kali, bagi\n",
        "\n",
        "def output_hasil(a, b, hasil):\n",
        "    \"\"\"Fungsi untuk menampilkan hasil operasi\"\"\"\n",
        "    tambah, kurang, kali, bagi = hasil\n",
        "    print(f\"\\nHasil Operasi Aritmatika dari {a} dan {b}:\")\n",
        "    print(f\"Penjumlahan: {tambah}\")\n",
        "    print(f\"Pengurangan: {kurang}\")\n",
        "    print(f\"Perkalian: {kali}\")\n",
        "    print(f\"Pembagian: {bagi}\")\n",
        "# Main program\n",
        "a, b = input_angka()\n",
        "hasil = operasi_aritmatika(a, b)\n",
        "output_hasil(a, b, hasil)\n"
      ],
      "metadata": {
        "colab": {
          "base_uri": "https://localhost:8080/"
        },
        "id": "hgmYWP4BVDxm",
        "outputId": "8cd51cc7-1a80-4a87-b5b8-7913277255d0"
      },
      "execution_count": 7,
      "outputs": [
        {
          "output_type": "stream",
          "name": "stdout",
          "text": [
            "Masukkan angka pertama: 8\n",
            "Masukkan angka kedua: 25\n",
            "\n",
            "Hasil Operasi Aritmatika dari 8.0 dan 25.0:\n",
            "Penjumlahan: 33.0\n",
            "Pengurangan: -17.0\n",
            "Perkalian: 200.0\n",
            "Pembagian: 0.32\n"
          ]
        }
      ]
    },
    {
      "cell_type": "code",
      "source": [
        "# Program Kasir Sederhana di Kedai Kopi\n",
        "\n",
        "# Input jumlah item dan harga\n",
        "jumlah_item = int(input(\"Masukkan jumlah item yang dibeli: \"))\n",
        "\n",
        "# List untuk menyimpan harga tiap item\n",
        "harga_item = []\n",
        "for i in range(jumlah_item):\n",
        "    harga = float(input(f\"Masukkan harga item ke-{i+1}: Rp \"))\n",
        "    harga_item.append(harga)\n",
        "\n",
        "# Input status member\n",
        "is_member = input(\"Apakah pelanggan member? (ya/tidak): \").lower() == \"ya\"\n",
        "\n",
        "# 1. Hitung Subtotal\n",
        "subtotal = sum(harga_item)\n",
        "\n",
        "# 2. Evaluasi Syarat Diskon\n",
        "# Syarat: Member DAN subtotal > 100.000\n",
        "if is_member and subtotal > 100000:\n",
        "    diskon = 0.15 * subtotal\n",
        "else:\n",
        "    diskon = 0\n",
        "\n",
        "# 3. Hitung Harga Setelah Diskon\n",
        "harga_setelah_diskon = subtotal - diskon\n",
        "\n",
        "# 4. Hitung PPN (11% setelah diskon)\n",
        "ppn = 0.11 * harga_setelah_diskon\n",
        "\n",
        "# 5. Hitung Total Akhir\n",
        "total_akhir = harga_setelah_diskon + ppn\n",
        "\n",
        "# --- OUTPUT ---\n",
        "print(\"\\n===== STRUK PEMBAYARAN =====\")\n",
        "print(f\"Subtotal: Rp{subtotal:,.2f}\")\n",
        "print(f\"Diskon: Rp{diskon:,.2f}\")\n",
        "print(f\"Harga Setelah Diskon: Rp{harga_setelah_diskon:,.2f}\")\n",
        "print(f\"PPN (11%): Rp{ppn:,.2f}\")\n",
        "print(f\"Total Akhir yang Harus Dibayar: Rp{total_akhir:,.2f}\")\n"
      ],
      "metadata": {
        "colab": {
          "base_uri": "https://localhost:8080/"
        },
        "id": "hJo827XeXBJo",
        "outputId": "774bb3a9-daf3-45e5-d967-62fd8e1cfdac"
      },
      "execution_count": 8,
      "outputs": [
        {
          "output_type": "stream",
          "name": "stdout",
          "text": [
            "Masukkan jumlah item yang dibeli: 4\n",
            "Masukkan harga item ke-1: Rp 15000\n",
            "Masukkan harga item ke-2: Rp 50000\n",
            "Masukkan harga item ke-3: Rp 20000\n",
            "Masukkan harga item ke-4: Rp 85000\n",
            "Apakah pelanggan member? (ya/tidak): ya\n",
            "\n",
            "===== STRUK PEMBAYARAN =====\n",
            "Subtotal: Rp170,000.00\n",
            "Diskon: Rp25,500.00\n",
            "Harga Setelah Diskon: Rp144,500.00\n",
            "PPN (11%): Rp15,895.00\n",
            "Total Akhir yang Harus Dibayar: Rp160,395.00\n"
          ]
        }
      ]
    }
  ]
}