{
  "nbformat": 4,
  "nbformat_minor": 0,
  "metadata": {
    "colab": {
      "provenance": [],
      "authorship_tag": "ABX9TyMAGp8f6fOwDkZH7jWo1182",
      "include_colab_link": true
    },
    "kernelspec": {
      "name": "python3",
      "display_name": "Python 3"
    },
    "language_info": {
      "name": "python"
    }
  },
  "cells": [
    {
      "cell_type": "markdown",
      "metadata": {
        "id": "view-in-github",
        "colab_type": "text"
      },
      "source": [
        "<a href=\"https://colab.research.google.com/github/rifahalwani60-ui/Pemrograman-Dasar/blob/main/Untitled0.ipynb\" target=\"_parent\"><img src=\"https://colab.research.google.com/assets/colab-badge.svg\" alt=\"Open In Colab\"/></a>"
      ]
    },
    {
      "cell_type": "code",
      "source": [
        "# Biodata saya\n",
        "\n",
        "Nama = \"Rifa Halwani\"\n",
        "Nim  = \"4232211015\"\n",
        "Umur = \"25\"\n",
        "Jurusan = \"Rekayasa Pembangkit Energi\"\n",
        "Semester = 7\n",
        "Matakuliah = \"Pemerograman Dasar\"\n",
        "Alamat = \"perum meditrania blok EE No 6\"\n",
        "Status_lulus = False\n",
        "\n",
        "\n",
        "print (Nama)\n",
        "print (Nim)\n",
        "print (Umur)\n",
        "print (Jurusan)\n",
        "print (Semester)\n",
        "print (Matakuliah)\n",
        "print (Alamat)\n",
        "\n"
      ],
      "metadata": {
        "colab": {
          "base_uri": "https://localhost:8080/"
        },
        "id": "PujAxWfVh9-y",
        "outputId": "0105fa6b-2b60-47b7-b314-c9ef9aa9be78"
      },
      "execution_count": 2,
      "outputs": [
        {
          "output_type": "stream",
          "name": "stdout",
          "text": [
            "Rifa Halwani\n",
            "4232211015\n",
            "25\n",
            "Rekayasa Pembangkit Energi\n",
            "7\n",
            "Pemerograman Dasar\n",
            "perum meditrania blok EE No 6\n"
          ]
        }
      ]
    }
  ]
}